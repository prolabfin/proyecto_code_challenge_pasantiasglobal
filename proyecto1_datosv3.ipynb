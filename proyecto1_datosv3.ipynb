{
  "nbformat": 4,
  "nbformat_minor": 0,
  "metadata": {
    "colab": {
      "provenance": [],
      "toc_visible": true,
      "authorship_tag": "ABX9TyOvIHOJwwCf19b7IiPsLAkk",
      "include_colab_link": true
    },
    "kernelspec": {
      "name": "python3",
      "display_name": "Python 3"
    },
    "language_info": {
      "name": "python"
    }
  },
  "cells": [
    {
      "cell_type": "markdown",
      "metadata": {
        "id": "view-in-github",
        "colab_type": "text"
      },
      "source": [
        "<a href=\"https://colab.research.google.com/github/prolabfin/proyecto_code_challenge_pasantiasglobal/blob/main/proyecto1_datosv3.ipynb\" target=\"_parent\"><img src=\"https://colab.research.google.com/assets/colab-badge.svg\" alt=\"Open In Colab\"/></a>"
      ]
    },
    {
      "cell_type": "code",
      "execution_count": 17,
      "metadata": {
        "id": "bV6RM5KDuS95"
      },
      "outputs": [],
      "source": [
        "# Utilizar Python o Java para escribir un script que simule la extracción de datos desde\n",
        "#una fuente. Puede ser una API ficticia o un archivo CSV."
      ]
    },
    {
      "cell_type": "code",
      "source": [
        "import pandas as pd\n",
        "from io import StringIO\n",
        "\n",
        "# Texto proporcionado\n",
        "data = \"\"\"transaction_id,product_name,quantity_sold,date_sold,price,store_location,user_agent\n",
        "1001,Smartphone,2,2023-10-01,300,New York,\\\"Mozilla/5.0 (Android)\\\"\n",
        "1002,Laptop,1,2023-10-02,800,Los Angeles,\\\"Mozilla/5.0 (Windows)\\\"\n",
        "1002,Laptop,,2023-10-02,,,\\\"Mozilla/5.0 (Windows)\\\" # Registro duplicado con valores faltantes\n",
        "1003,Headphones,5,2023-10-03,50,Chicago,\\\"Mozilla/5.0 (iOS)\\\"\n",
        "1004,Smartwatch,3,2023-10-04,150,San Francisco,\\\"Mozilla/5.0 (Android)\\\"\n",
        "1005,Tablet,2,2023-10-05,400,Boston,\\\"Mozilla/5.0 (macOS)\\\"\n",
        "1006,Camera,1,2023-10-06,500,Miami,\\\"Mozilla/5.0 (Windows)\\\"\n",
        "1007,Charger,10,2023-10-07,15,Seattle,\\\"Mozilla/5.0 (Linux)\\\"\n",
        "1008,Mouse,4,2023-10-08,25,Dallas,\\\"Mozilla/5.0 (Android)\\\"\n",
        "1009,Keyboard,3,2023-10-09,45,Houston,\\\"\\\"\n",
        "1010,Monitor,2,2023-10-10,200,Philadelphia,\\\"Mozilla/5.0 (macOS)\\\"\"\"\"\n",
        "\n",
        "# Crear un DataFrame desde el texto utilizando StringIO para simular un archivo\n",
        "df = pd.read_csv(StringIO(data))\n",
        "\n",
        "# Mostrar el DataFrame\n",
        "print(df)\n"
      ],
      "metadata": {
        "colab": {
          "base_uri": "https://localhost:8080/"
        },
        "id": "akYLu4wV73FF",
        "outputId": "dfeb1770-5b8a-447b-c330-28242214487d"
      },
      "execution_count": 18,
      "outputs": [
        {
          "output_type": "stream",
          "name": "stdout",
          "text": [
            "    transaction_id product_name  quantity_sold   date_sold  price  \\\n",
            "0             1001   Smartphone            2.0  2023-10-01  300.0   \n",
            "1             1002       Laptop            1.0  2023-10-02  800.0   \n",
            "2             1002       Laptop            NaN  2023-10-02    NaN   \n",
            "3             1003   Headphones            5.0  2023-10-03   50.0   \n",
            "4             1004   Smartwatch            3.0  2023-10-04  150.0   \n",
            "5             1005       Tablet            2.0  2023-10-05  400.0   \n",
            "6             1006       Camera            1.0  2023-10-06  500.0   \n",
            "7             1007      Charger           10.0  2023-10-07   15.0   \n",
            "8             1008        Mouse            4.0  2023-10-08   25.0   \n",
            "9             1009     Keyboard            3.0  2023-10-09   45.0   \n",
            "10            1010      Monitor            2.0  2023-10-10  200.0   \n",
            "\n",
            "   store_location                                         user_agent  \n",
            "0        New York                              Mozilla/5.0 (Android)  \n",
            "1     Los Angeles                              Mozilla/5.0 (Windows)  \n",
            "2             NaN  Mozilla/5.0 (Windows) # Registro duplicado con...  \n",
            "3         Chicago                                  Mozilla/5.0 (iOS)  \n",
            "4   San Francisco                              Mozilla/5.0 (Android)  \n",
            "5          Boston                                Mozilla/5.0 (macOS)  \n",
            "6           Miami                              Mozilla/5.0 (Windows)  \n",
            "7         Seattle                                Mozilla/5.0 (Linux)  \n",
            "8          Dallas                              Mozilla/5.0 (Android)  \n",
            "9         Houston                                                NaN  \n",
            "10   Philadelphia                                Mozilla/5.0 (macOS)  \n"
          ]
        }
      ]
    },
    {
      "cell_type": "markdown",
      "source": [
        "Esta vez se utilizo la cadena de datos proporcionada en el ejercicio .\n"
      ],
      "metadata": {
        "id": "WtRhNGYc8GEo"
      }
    },
    {
      "cell_type": "code",
      "source": [
        "# Eliminar registros duplicados\n",
        "df = df.drop_duplicates()\n",
        "# Mostrar el DataFrame\n",
        "print(df)\n"
      ],
      "metadata": {
        "colab": {
          "base_uri": "https://localhost:8080/"
        },
        "id": "TRdRpHP_9Ka0",
        "outputId": "740461d4-ab0a-4228-a189-444fcc03db59"
      },
      "execution_count": 19,
      "outputs": [
        {
          "output_type": "stream",
          "name": "stdout",
          "text": [
            "    transaction_id product_name  quantity_sold   date_sold  price  \\\n",
            "0             1001   Smartphone            2.0  2023-10-01  300.0   \n",
            "1             1002       Laptop            1.0  2023-10-02  800.0   \n",
            "2             1002       Laptop            NaN  2023-10-02    NaN   \n",
            "3             1003   Headphones            5.0  2023-10-03   50.0   \n",
            "4             1004   Smartwatch            3.0  2023-10-04  150.0   \n",
            "5             1005       Tablet            2.0  2023-10-05  400.0   \n",
            "6             1006       Camera            1.0  2023-10-06  500.0   \n",
            "7             1007      Charger           10.0  2023-10-07   15.0   \n",
            "8             1008        Mouse            4.0  2023-10-08   25.0   \n",
            "9             1009     Keyboard            3.0  2023-10-09   45.0   \n",
            "10            1010      Monitor            2.0  2023-10-10  200.0   \n",
            "\n",
            "   store_location                                         user_agent  \n",
            "0        New York                              Mozilla/5.0 (Android)  \n",
            "1     Los Angeles                              Mozilla/5.0 (Windows)  \n",
            "2             NaN  Mozilla/5.0 (Windows) # Registro duplicado con...  \n",
            "3         Chicago                                  Mozilla/5.0 (iOS)  \n",
            "4   San Francisco                              Mozilla/5.0 (Android)  \n",
            "5          Boston                                Mozilla/5.0 (macOS)  \n",
            "6           Miami                              Mozilla/5.0 (Windows)  \n",
            "7         Seattle                                Mozilla/5.0 (Linux)  \n",
            "8          Dallas                              Mozilla/5.0 (Android)  \n",
            "9         Houston                                                NaN  \n",
            "10   Philadelphia                                Mozilla/5.0 (macOS)  \n"
          ]
        }
      ]
    },
    {
      "cell_type": "code",
      "source": [
        "# Completar valores faltantes en 'user_agent'\n",
        "df['user_agent'] = df['user_agent'].fillna('Valor Predeterminado')\n",
        "print(df)"
      ],
      "metadata": {
        "colab": {
          "base_uri": "https://localhost:8080/"
        },
        "id": "yJRD1J1f9_JL",
        "outputId": "df5b0ea0-7836-4229-e123-34d641fc1ebd"
      },
      "execution_count": 20,
      "outputs": [
        {
          "output_type": "stream",
          "name": "stdout",
          "text": [
            "    transaction_id product_name  quantity_sold   date_sold  price  \\\n",
            "0             1001   Smartphone            2.0  2023-10-01  300.0   \n",
            "1             1002       Laptop            1.0  2023-10-02  800.0   \n",
            "2             1002       Laptop            NaN  2023-10-02    NaN   \n",
            "3             1003   Headphones            5.0  2023-10-03   50.0   \n",
            "4             1004   Smartwatch            3.0  2023-10-04  150.0   \n",
            "5             1005       Tablet            2.0  2023-10-05  400.0   \n",
            "6             1006       Camera            1.0  2023-10-06  500.0   \n",
            "7             1007      Charger           10.0  2023-10-07   15.0   \n",
            "8             1008        Mouse            4.0  2023-10-08   25.0   \n",
            "9             1009     Keyboard            3.0  2023-10-09   45.0   \n",
            "10            1010      Monitor            2.0  2023-10-10  200.0   \n",
            "\n",
            "   store_location                                         user_agent  \n",
            "0        New York                              Mozilla/5.0 (Android)  \n",
            "1     Los Angeles                              Mozilla/5.0 (Windows)  \n",
            "2             NaN  Mozilla/5.0 (Windows) # Registro duplicado con...  \n",
            "3         Chicago                                  Mozilla/5.0 (iOS)  \n",
            "4   San Francisco                              Mozilla/5.0 (Android)  \n",
            "5          Boston                                Mozilla/5.0 (macOS)  \n",
            "6           Miami                              Mozilla/5.0 (Windows)  \n",
            "7         Seattle                                Mozilla/5.0 (Linux)  \n",
            "8          Dallas                              Mozilla/5.0 (Android)  \n",
            "9         Houston                               Valor Predeterminado  \n",
            "10   Philadelphia                                Mozilla/5.0 (macOS)  \n"
          ]
        }
      ]
    },
    {
      "cell_type": "code",
      "source": [
        "# Convertir 'date_sold' a formato de fecha\n",
        "df['date_sold'] = pd.to_datetime(df['date_sold'])\n",
        "print(df)\n"
      ],
      "metadata": {
        "colab": {
          "base_uri": "https://localhost:8080/"
        },
        "id": "OhRo5P56-nOm",
        "outputId": "b85e8874-a826-436d-cce1-7eaf87d28b2c"
      },
      "execution_count": 21,
      "outputs": [
        {
          "output_type": "stream",
          "name": "stdout",
          "text": [
            "    transaction_id product_name  quantity_sold  date_sold  price  \\\n",
            "0             1001   Smartphone            2.0 2023-10-01  300.0   \n",
            "1             1002       Laptop            1.0 2023-10-02  800.0   \n",
            "2             1002       Laptop            NaN 2023-10-02    NaN   \n",
            "3             1003   Headphones            5.0 2023-10-03   50.0   \n",
            "4             1004   Smartwatch            3.0 2023-10-04  150.0   \n",
            "5             1005       Tablet            2.0 2023-10-05  400.0   \n",
            "6             1006       Camera            1.0 2023-10-06  500.0   \n",
            "7             1007      Charger           10.0 2023-10-07   15.0   \n",
            "8             1008        Mouse            4.0 2023-10-08   25.0   \n",
            "9             1009     Keyboard            3.0 2023-10-09   45.0   \n",
            "10            1010      Monitor            2.0 2023-10-10  200.0   \n",
            "\n",
            "   store_location                                         user_agent  \n",
            "0        New York                              Mozilla/5.0 (Android)  \n",
            "1     Los Angeles                              Mozilla/5.0 (Windows)  \n",
            "2             NaN  Mozilla/5.0 (Windows) # Registro duplicado con...  \n",
            "3         Chicago                                  Mozilla/5.0 (iOS)  \n",
            "4   San Francisco                              Mozilla/5.0 (Android)  \n",
            "5          Boston                                Mozilla/5.0 (macOS)  \n",
            "6           Miami                              Mozilla/5.0 (Windows)  \n",
            "7         Seattle                                Mozilla/5.0 (Linux)  \n",
            "8          Dallas                              Mozilla/5.0 (Android)  \n",
            "9         Houston                               Valor Predeterminado  \n",
            "10   Philadelphia                                Mozilla/5.0 (macOS)  \n"
          ]
        }
      ]
    },
    {
      "cell_type": "code",
      "source": [
        "# Convertir 'price' a numérico\n",
        "df['price'] = pd.to_numeric(df['price'], errors='coerce')\n",
        "print(df)"
      ],
      "metadata": {
        "colab": {
          "base_uri": "https://localhost:8080/"
        },
        "id": "vyRMPlKN_WxT",
        "outputId": "c96e1f9d-50ae-4323-d0da-9f71a463fc5f"
      },
      "execution_count": 22,
      "outputs": [
        {
          "output_type": "stream",
          "name": "stdout",
          "text": [
            "    transaction_id product_name  quantity_sold  date_sold  price  \\\n",
            "0             1001   Smartphone            2.0 2023-10-01  300.0   \n",
            "1             1002       Laptop            1.0 2023-10-02  800.0   \n",
            "2             1002       Laptop            NaN 2023-10-02    NaN   \n",
            "3             1003   Headphones            5.0 2023-10-03   50.0   \n",
            "4             1004   Smartwatch            3.0 2023-10-04  150.0   \n",
            "5             1005       Tablet            2.0 2023-10-05  400.0   \n",
            "6             1006       Camera            1.0 2023-10-06  500.0   \n",
            "7             1007      Charger           10.0 2023-10-07   15.0   \n",
            "8             1008        Mouse            4.0 2023-10-08   25.0   \n",
            "9             1009     Keyboard            3.0 2023-10-09   45.0   \n",
            "10            1010      Monitor            2.0 2023-10-10  200.0   \n",
            "\n",
            "   store_location                                         user_agent  \n",
            "0        New York                              Mozilla/5.0 (Android)  \n",
            "1     Los Angeles                              Mozilla/5.0 (Windows)  \n",
            "2             NaN  Mozilla/5.0 (Windows) # Registro duplicado con...  \n",
            "3         Chicago                                  Mozilla/5.0 (iOS)  \n",
            "4   San Francisco                              Mozilla/5.0 (Android)  \n",
            "5          Boston                                Mozilla/5.0 (macOS)  \n",
            "6           Miami                              Mozilla/5.0 (Windows)  \n",
            "7         Seattle                                Mozilla/5.0 (Linux)  \n",
            "8          Dallas                              Mozilla/5.0 (Android)  \n",
            "9         Houston                               Valor Predeterminado  \n",
            "10   Philadelphia                                Mozilla/5.0 (macOS)  \n"
          ]
        }
      ]
    },
    {
      "cell_type": "code",
      "source": [
        "!pip install pandas\n"
      ],
      "metadata": {
        "colab": {
          "base_uri": "https://localhost:8080/"
        },
        "id": "sCMdxqB7BTFC",
        "outputId": "19d4fc2d-db5f-45a9-e698-686687ec0f10"
      },
      "execution_count": 23,
      "outputs": [
        {
          "output_type": "stream",
          "name": "stdout",
          "text": [
            "Requirement already satisfied: pandas in /usr/local/lib/python3.10/dist-packages (1.5.3)\n",
            "Requirement already satisfied: python-dateutil>=2.8.1 in /usr/local/lib/python3.10/dist-packages (from pandas) (2.8.2)\n",
            "Requirement already satisfied: pytz>=2020.1 in /usr/local/lib/python3.10/dist-packages (from pandas) (2023.3.post1)\n",
            "Requirement already satisfied: numpy>=1.21.0 in /usr/local/lib/python3.10/dist-packages (from pandas) (1.23.5)\n",
            "Requirement already satisfied: six>=1.5 in /usr/local/lib/python3.10/dist-packages (from python-dateutil>=2.8.1->pandas) (1.16.0)\n"
          ]
        }
      ]
    },
    {
      "cell_type": "code",
      "source": [
        "pip install tabulate\n"
      ],
      "metadata": {
        "colab": {
          "base_uri": "https://localhost:8080/"
        },
        "id": "sPiqjXXRBX7i",
        "outputId": "0fe847c7-418e-4149-b671-091712f20537"
      },
      "execution_count": 24,
      "outputs": [
        {
          "output_type": "stream",
          "name": "stdout",
          "text": [
            "Requirement already satisfied: tabulate in /usr/local/lib/python3.10/dist-packages (0.9.0)\n"
          ]
        }
      ]
    },
    {
      "cell_type": "markdown",
      "source": [
        "Ahora se usa tabulate de pandas para poder mostrar el dataframe df de forma mas ordenada  y se imprime el resultado"
      ],
      "metadata": {
        "id": "m0ZWV_cRByPq"
      }
    },
    {
      "cell_type": "code",
      "source": [
        "from tabulate import tabulate\n",
        "\n",
        "# Suponiendo que el DataFrame se ha limpiado y transformado como se mostró anteriormente\n",
        "\n",
        "# Imprimir el DataFrame como una tabla ordenada\n",
        "print(tabulate(df, headers='keys', tablefmt='pretty', showindex=False))\n"
      ],
      "metadata": {
        "colab": {
          "base_uri": "https://localhost:8080/"
        },
        "id": "bSSbnJ0oCA82",
        "outputId": "589e738d-1264-435c-a3cf-f236573a8c6f"
      },
      "execution_count": 25,
      "outputs": [
        {
          "output_type": "stream",
          "name": "stdout",
          "text": [
            "+----------------+--------------+---------------+---------------------+-------+----------------+------------------------------------------------------------------+\n",
            "| transaction_id | product_name | quantity_sold |      date_sold      | price | store_location |                            user_agent                            |\n",
            "+----------------+--------------+---------------+---------------------+-------+----------------+------------------------------------------------------------------+\n",
            "|      1001      |  Smartphone  |      2.0      | 2023-10-01 00:00:00 | 300.0 |    New York    |                      Mozilla/5.0 (Android)                       |\n",
            "|      1002      |    Laptop    |      1.0      | 2023-10-02 00:00:00 | 800.0 |  Los Angeles   |                      Mozilla/5.0 (Windows)                       |\n",
            "|      1002      |    Laptop    |      nan      | 2023-10-02 00:00:00 |  nan  |      nan       | Mozilla/5.0 (Windows) # Registro duplicado con valores faltantes |\n",
            "|      1003      |  Headphones  |      5.0      | 2023-10-03 00:00:00 | 50.0  |    Chicago     |                        Mozilla/5.0 (iOS)                         |\n",
            "|      1004      |  Smartwatch  |      3.0      | 2023-10-04 00:00:00 | 150.0 | San Francisco  |                      Mozilla/5.0 (Android)                       |\n",
            "|      1005      |    Tablet    |      2.0      | 2023-10-05 00:00:00 | 400.0 |     Boston     |                       Mozilla/5.0 (macOS)                        |\n",
            "|      1006      |    Camera    |      1.0      | 2023-10-06 00:00:00 | 500.0 |     Miami      |                      Mozilla/5.0 (Windows)                       |\n",
            "|      1007      |   Charger    |     10.0      | 2023-10-07 00:00:00 | 15.0  |    Seattle     |                       Mozilla/5.0 (Linux)                        |\n",
            "|      1008      |    Mouse     |      4.0      | 2023-10-08 00:00:00 | 25.0  |     Dallas     |                      Mozilla/5.0 (Android)                       |\n",
            "|      1009      |   Keyboard   |      3.0      | 2023-10-09 00:00:00 | 45.0  |    Houston     |                       Valor Predeterminado                       |\n",
            "|      1010      |   Monitor    |      2.0      | 2023-10-10 00:00:00 | 200.0 |  Philadelphia  |                       Mozilla/5.0 (macOS)                        |\n",
            "+----------------+--------------+---------------+---------------------+-------+----------------+------------------------------------------------------------------+\n"
          ]
        }
      ]
    },
    {
      "cell_type": "code",
      "source": [
        "# Reemplazar NaN con valores vacíos\n",
        "df['quantity_sold'].fillna('', inplace=True)\n",
        "df['price'].fillna('', inplace=True)\n",
        "df['store_location'].fillna('', inplace=True)\n",
        "# Imprimir el DataFrame como una tabla ordenada\n",
        "print(tabulate(df, headers='keys', tablefmt='pretty', showindex=False))\n"
      ],
      "metadata": {
        "colab": {
          "base_uri": "https://localhost:8080/"
        },
        "id": "ZRofG5R0k1ev",
        "outputId": "6b38692f-ba8f-429e-ab12-68bffc544840"
      },
      "execution_count": 26,
      "outputs": [
        {
          "output_type": "stream",
          "name": "stdout",
          "text": [
            "+----------------+--------------+---------------+---------------------+-------+----------------+------------------------------------------------------------------+\n",
            "| transaction_id | product_name | quantity_sold |      date_sold      | price | store_location |                            user_agent                            |\n",
            "+----------------+--------------+---------------+---------------------+-------+----------------+------------------------------------------------------------------+\n",
            "|      1001      |  Smartphone  |      2.0      | 2023-10-01 00:00:00 | 300.0 |    New York    |                      Mozilla/5.0 (Android)                       |\n",
            "|      1002      |    Laptop    |      1.0      | 2023-10-02 00:00:00 | 800.0 |  Los Angeles   |                      Mozilla/5.0 (Windows)                       |\n",
            "|      1002      |    Laptop    |               | 2023-10-02 00:00:00 |       |                | Mozilla/5.0 (Windows) # Registro duplicado con valores faltantes |\n",
            "|      1003      |  Headphones  |      5.0      | 2023-10-03 00:00:00 | 50.0  |    Chicago     |                        Mozilla/5.0 (iOS)                         |\n",
            "|      1004      |  Smartwatch  |      3.0      | 2023-10-04 00:00:00 | 150.0 | San Francisco  |                      Mozilla/5.0 (Android)                       |\n",
            "|      1005      |    Tablet    |      2.0      | 2023-10-05 00:00:00 | 400.0 |     Boston     |                       Mozilla/5.0 (macOS)                        |\n",
            "|      1006      |    Camera    |      1.0      | 2023-10-06 00:00:00 | 500.0 |     Miami      |                      Mozilla/5.0 (Windows)                       |\n",
            "|      1007      |   Charger    |     10.0      | 2023-10-07 00:00:00 | 15.0  |    Seattle     |                       Mozilla/5.0 (Linux)                        |\n",
            "|      1008      |    Mouse     |      4.0      | 2023-10-08 00:00:00 | 25.0  |     Dallas     |                      Mozilla/5.0 (Android)                       |\n",
            "|      1009      |   Keyboard   |      3.0      | 2023-10-09 00:00:00 | 45.0  |    Houston     |                       Valor Predeterminado                       |\n",
            "|      1010      |   Monitor    |      2.0      | 2023-10-10 00:00:00 | 200.0 |  Philadelphia  |                       Mozilla/5.0 (macOS)                        |\n",
            "+----------------+--------------+---------------+---------------------+-------+----------------+------------------------------------------------------------------+\n"
          ]
        }
      ]
    },
    {
      "cell_type": "code",
      "source": [
        "\n",
        "# Obtener los tipos de datos de cada columna\n",
        "print(\"\\nTipos de Datos de las Columnas:\")\n",
        "print(df.dtypes)\n",
        "\n",
        "# Convertir 'quantity_sold' y 'price' a números y calcular el promedio\n",
        "quantity_sold_mean = pd.to_numeric(df['quantity_sold'], errors='coerce').mean()\n",
        "price_mean = pd.to_numeric(df['price'], errors='coerce').mean()\n",
        "\n",
        "# Mostrar el promedio de las columnas\n",
        "print(\"Promedio de quantity_sold:\", quantity_sold_mean)\n",
        "print(\"Promedio de price:\", price_mean)\n"
      ],
      "metadata": {
        "colab": {
          "base_uri": "https://localhost:8080/"
        },
        "id": "hxcvv4PQn2Wn",
        "outputId": "c6462af8-a81a-47dd-f7f1-915329241ecd"
      },
      "execution_count": 28,
      "outputs": [
        {
          "output_type": "stream",
          "name": "stdout",
          "text": [
            "\n",
            "Tipos de Datos de las Columnas:\n",
            "transaction_id             int64\n",
            "product_name              object\n",
            "quantity_sold             object\n",
            "date_sold         datetime64[ns]\n",
            "price                     object\n",
            "store_location            object\n",
            "user_agent                object\n",
            "dtype: object\n",
            "Promedio de quantity_sold: 3.3\n",
            "Promedio de price: 248.5\n"
          ]
        }
      ]
    },
    {
      "cell_type": "code",
      "source": [
        "# Imprimir el DataFrame como una tabla ordenada\n",
        "print(tabulate(df, headers='keys', tablefmt='pretty', showindex=False))\n"
      ],
      "metadata": {
        "colab": {
          "base_uri": "https://localhost:8080/"
        },
        "id": "qLgCsESKuxKA",
        "outputId": "4a6be068-6d73-4c5b-9f63-e70912151cd8"
      },
      "execution_count": 29,
      "outputs": [
        {
          "output_type": "stream",
          "name": "stdout",
          "text": [
            "+----------------+--------------+---------------+---------------------+-------+----------------+------------------------------------------------------------------+\n",
            "| transaction_id | product_name | quantity_sold |      date_sold      | price | store_location |                            user_agent                            |\n",
            "+----------------+--------------+---------------+---------------------+-------+----------------+------------------------------------------------------------------+\n",
            "|      1001      |  Smartphone  |      2.0      | 2023-10-01 00:00:00 | 300.0 |    New York    |                      Mozilla/5.0 (Android)                       |\n",
            "|      1002      |    Laptop    |      1.0      | 2023-10-02 00:00:00 | 800.0 |  Los Angeles   |                      Mozilla/5.0 (Windows)                       |\n",
            "|      1002      |    Laptop    |               | 2023-10-02 00:00:00 |       |                | Mozilla/5.0 (Windows) # Registro duplicado con valores faltantes |\n",
            "|      1003      |  Headphones  |      5.0      | 2023-10-03 00:00:00 | 50.0  |    Chicago     |                        Mozilla/5.0 (iOS)                         |\n",
            "|      1004      |  Smartwatch  |      3.0      | 2023-10-04 00:00:00 | 150.0 | San Francisco  |                      Mozilla/5.0 (Android)                       |\n",
            "|      1005      |    Tablet    |      2.0      | 2023-10-05 00:00:00 | 400.0 |     Boston     |                       Mozilla/5.0 (macOS)                        |\n",
            "|      1006      |    Camera    |      1.0      | 2023-10-06 00:00:00 | 500.0 |     Miami      |                      Mozilla/5.0 (Windows)                       |\n",
            "|      1007      |   Charger    |     10.0      | 2023-10-07 00:00:00 | 15.0  |    Seattle     |                       Mozilla/5.0 (Linux)                        |\n",
            "|      1008      |    Mouse     |      4.0      | 2023-10-08 00:00:00 | 25.0  |     Dallas     |                      Mozilla/5.0 (Android)                       |\n",
            "|      1009      |   Keyboard   |      3.0      | 2023-10-09 00:00:00 | 45.0  |    Houston     |                       Valor Predeterminado                       |\n",
            "|      1010      |   Monitor    |      2.0      | 2023-10-10 00:00:00 | 200.0 |  Philadelphia  |                       Mozilla/5.0 (macOS)                        |\n",
            "+----------------+--------------+---------------+---------------------+-------+----------------+------------------------------------------------------------------+\n"
          ]
        }
      ]
    }
  ]
}